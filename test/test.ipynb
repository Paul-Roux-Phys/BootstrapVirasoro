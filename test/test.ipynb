{
 "cells": [
  {
   "cell_type": "code",
   "execution_count": 92,
   "metadata": {},
   "outputs": [
    {
     "name": "stdout",
     "output_type": "stream",
     "text": [
      "-6.036027998137231362922944538456651861298263110437476775281176058094500583251412e-06 + 2.335826931375437289964796660870572996939251687938508099008878086850486879269791e-05im\n",
      "\n"
     ]
    }
   ],
   "source": [
    "using JuliVirBootstrap\n",
    "\n",
    "c = CentralCharge(:β, big\"0.8\"+big\"0.1\"*im)\n",
    "V = Field(c, Kac=true, r=2, s=3)\n",
    "Nmax = 26\n",
    "\n",
    "V1 = Field(c, Kac=true, r=0, s=1)\n",
    "V2 = Field(c, Kac=true, r=0, s=1//2)\n",
    "V3 = Field(c, Kac=true, r=0, s=1)\n",
    "V4 = Field(c, Kac=true, r=0, s=1//2)\n",
    "VΔ = Field(c, :Δ, big\"0.5\", diagonal=true)\n",
    "\n",
    "co = Correlation(V1, V2, V3, V4, Nmax)\n",
    "coΔ = Correlation(V1, V2, V3, VΔ, Nmax)\n",
    "\n",
    "x = big\"0.3\"+big\"0.1\"*im\n",
    "\n",
    "bl(channel) = Block(co, channel, V, Nmax)\n",
    "\n",
    "for a in evaluate(bl(:u), 5-x)\n",
    "    println(a, \"\\n\")\n",
    "end"
   ]
  },
  {
   "cell_type": "code",
   "execution_count": null,
   "metadata": {},
   "outputs": [],
   "source": []
  }
 ],
 "metadata": {
  "kernelspec": {
   "display_name": "Julia 1.9.4",
   "language": "julia",
   "name": "julia-1.9"
  },
  "language_info": {
   "file_extension": ".jl",
   "mimetype": "application/julia",
   "name": "julia",
   "version": "1.9.4"
  }
 },
 "nbformat": 4,
 "nbformat_minor": 2
}
