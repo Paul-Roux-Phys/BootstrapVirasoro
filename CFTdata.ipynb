{
 "cells": [
  {
   "attachments": {},
   "cell_type": "markdown",
   "metadata": {},
   "source": [
    "# Conformal Field Theory data\n",
    "\n",
    "This notebook contains classes representing objects in CFTs:\n",
    "* the central charge\n",
    "* conformal dimensions\n",
    "* fields"
   ]
  },
  {
   "cell_type": "code",
   "execution_count": 2,
   "metadata": {},
   "outputs": [],
   "source": [
    "#when not working on this notebook set to false to avoid running cells when importing\n",
    "run_tests=true;\n",
    "\n",
    "#packages\n",
    "using BenchmarkTools"
   ]
  },
  {
   "attachments": {},
   "cell_type": "markdown",
   "metadata": {},
   "source": [
    "## Central charge\n",
    "\n",
    "The central charge $c$ can be parametrized by the variables $B$, $b$ or $\\beta$ such that\n",
    "$$\n",
    "c = 13 + 6B + 6 B^{-1} \\quad , \\quad B = b^2 = -\\beta^2 \n",
    "$$\n",
    "Conversely, we have \n",
    "$$\n",
    "B = \\frac{c-13 \\pm \\sqrt{(c-1)(c-25)}}{12}\n",
    "$$"
   ]
  },
  {
   "cell_type": "code",
   "execution_count": 12,
   "metadata": {},
   "outputs": [],
   "source": [
    "#= The central charge can be given directly or as a function of b,β,B. \n",
    "    No matter what parameter is passed we compute B from it, then b,β,c. \n",
    "    We ensure that the relation between b and beta never changes (sqrt branch). =#\n",
    "\n",
    "Bfrom(parameter,value) = Dict(\n",
    "        \"c\" => (value-13+sqrt(Complex{BigFloat}((value-1)*(value-25))))/12,\n",
    "        \"b\" => value^2,\n",
    "        \"β\" => -value^2,\n",
    "        \"B\" => value\n",
    "    )[parameter]\n",
    "\n",
    "Bto(parameter,value) = Dict(\n",
    "        \"c\" => 13+6*value+6/value,\n",
    "        \"b\" => sqrt(Complex{BigFloat}(value)),\n",
    "        \"β\" => im*sqrt(Complex{BigFloat}(value)),\n",
    "        \"B\" => value\n",
    "    )[parameter]\n",
    "\n",
    "struct CentralCharge\n",
    "\n",
    "    values::Dict{String,Complex{BigFloat}}\n",
    "\n",
    "    function CentralCharge(parameter=\"c\",value=1)\n",
    "        B=Bfrom(parameter,value)\n",
    "        dict=Dict(key => Bto(key,B) for key in (\"c\",\"b\",\"β\",\"B\"))\n",
    "        new(dict)\n",
    "    end\n",
    "\n",
    "end\n",
    "\n",
    "#Print an object of type CentralCharge\n",
    "function Base.show(io::IO,charge::CentralCharge)\n",
    "    for (key,value) in charge.values\n",
    "        println(io, \"$key = $value\")\n",
    "    end\n",
    "end\n",
    "\n",
    "#overload [] to access values in charge\n",
    "Base.getindex(charge::CentralCharge,key) = charge.values[key]"
   ]
  },
  {
   "cell_type": "code",
   "execution_count": 13,
   "metadata": {},
   "outputs": [
    {
     "name": "stdout",
     "output_type": "stream",
     "text": [
      "B = -0.75 + 0.0im\n",
      "c = 0.5 + 0.0im\n",
      "b = 0.0 + 0.8660254037844386467637231707529361834714026269051903140279034897259665084543988im\n",
      "β = -0.8660254037844386467637231707529361834714026269051903140279034897259665084543988 + 0.0im\n",
      "\n",
      "b = 0.0 + 0.8660254037844386467637231707529361834714026269051903140279034897259665084543988im\n"
     ]
    }
   ],
   "source": [
    "if run_tests\n",
    "    charge=CentralCharge(\"c\",0.5)\n",
    "    println(charge)\n",
    "    println(\"b = \",charge[\"b\"])\n",
    "end"
   ]
  },
  {
   "attachments": {},
   "cell_type": "markdown",
   "metadata": {},
   "source": [
    "## Conformal weights\n",
    "\n",
    "Non-logarithmic fields in 2D CFTs are eigenvectors of the generators $L_0$ and $\\bar L_0$ of the Virasoro algebra, with eigenvalues called conformal weights or conformal dimensions and respectively denoted $(\\Delta,\\bar \\Delta)$. Conformal weights also make sense for logarithmic fields, though not as eigenvalues of $L_0,\\bar L_0$, see [arXiv:2007.04190](https://arxiv.org/abs/2007.04190).\n",
    "\n",
    "Conformal weights are conveniently parametrised in terms of the momentum $P$, parameters $\\delta$ or $p$:\n",
    "\n",
    "$$\n",
    "\\Delta = \\frac{c-1}{24} + \\delta  \\quad , \\quad \\delta = -P^2 = p^2\n",
    "$$\n",
    "\n",
    "The Kac parametrisation for conformal weights is\n",
    "$$ p_{(r,s)}=\\frac{1}{2}(b r - b^{-1}s)$$\n",
    "\n",
    "where $r,s$ are arbitrary numbers. We say the field is degenerate if $r,s\\in \\mathbb Z$ and rs>0. In terms of $r,s$, the dimension $\\Delta$ is written\n",
    "\n",
    "\n",
    "$$\\Delta_{(r,s)} = \\frac14 B (1-r^2) + \\frac12 (1-rs) + \\frac14\\frac{1-s^2}{B}\n",
    "$$\n",
    "\n",
    "This convention is consistent with the one in in [this code](https://gitlab.com/s.g.ribault/Bootstrap_Virasoro.git)  but differs from the one in [this paper](https://arxiv.org/abs/2208.14298); it should be understood that the $P_{(r,s)}$ in the paper are the $p_{(r,s)}$ in this code."
   ]
  },
  {
   "cell_type": "code",
   "execution_count": 14,
   "metadata": {},
   "outputs": [],
   "source": [
    "p_from(parameter,value,charge::CentralCharge) = Dict(\n",
    "        \"Δ\" => sqrt(Complex{BigFloat}(value - (charge[\"c\"]-1)/24)),\n",
    "        \"δ\" => sqrt(Complex{BigFloat}(value)),\n",
    "        \"P\" => Complex{BigFloat}(-im*value),\n",
    "        \"p\" => Complex{BigFloat}(value)\n",
    "    )[parameter]\n",
    "\n",
    "p_to(parameter,value,charge::CentralCharge) = Dict(\n",
    "        \"Δ\" => Complex{BigFloat}(value^2 + (charge[\"c\"]-1)/24),\n",
    "        \"δ\" => Complex{BigFloat}(value^2),\n",
    "        \"P\" => Complex{BigFloat}(im*value),\n",
    "        \"p\" => Complex{BigFloat}(value)\n",
    "    )[parameter]\n",
    "\n",
    "struct Dimension\n",
    "\n",
    "    charge::CentralCharge\n",
    "    isKac::Bool\n",
    "    values::Dict{String,Complex{BigFloat}}\n",
    "    r::Int64;s::Int64\n",
    "\n",
    "    function Dimension(parameter=\"\",value=0,;Kac=false,r=0,s=0,charge::CentralCharge = CentralCharge(\"c\",1))\n",
    "        if Kac\n",
    "            p=.5*(charge[\"b\"]*r - 1/charge[\"b\"]*s)\n",
    "            new(charge,true, Dict(key => p_to(key,p,charge) for key in (\"Δ\",\"δ\",\"P\",\"p\")),r,s)\n",
    "        else\n",
    "            p=p_from(parameter,value,charge)\n",
    "            new(charge,true, Dict(key => p_to(key,p,charge) for key in (\"Δ\",\"δ\",\"P\",\"p\")),r,s)\n",
    "        end\n",
    "    end\n",
    "end\n",
    "\n",
    "#Print an object of type Dimension\n",
    "function Base.show(io::IO,dim::Dimension)\n",
    "    for (key,value) in dim.values\n",
    "        println(io, \"$key = $value\")\n",
    "    end\n",
    "    if dim.isKac\n",
    "        println(\"r = \",dim.r,\" ; s = \",dim.s)\n",
    "    end\n",
    "end"
   ]
  },
  {
   "cell_type": "code",
   "execution_count": 25,
   "metadata": {},
   "outputs": [
    {
     "name": "stdout",
     "output_type": "stream",
     "text": [
      "B = -0.6666666666666666666666666666666666666666666666666666666666666666666666666666695 + 0.0im\n",
      "c = 0.0 + 0.0im\n",
      "b = 0.0 + 0.8164965809277260327324280249019637973219824935522233761442308557503201258191083im\n",
      "β = -0.8164965809277260327324280249019637973219824935522233761442308557503201258191083 + 0.0im\n",
      "\n",
      "Δ = -2.083333333333333333333333333333333333333333333333333333333333333333333333333322 + 0.0im\n",
      "P = 1.428869016623520557281749043578436645313469363716390908252403997563060220183424 + 0.0im"
     ]
    },
    {
     "name": "stdout",
     "output_type": "stream",
     "text": [
      "\n",
      "δ = -2.041666666666666666666666666666666666666666666666666666666666666666666666666644 - 0.0im\n",
      "p = 0.0 - 1.428869016623520557281749043578436645313469363716390908252403997563060220183424im\n",
      "r = -2 ; s = -1\n",
      "\n"
     ]
    }
   ],
   "source": [
    "if run_tests\n",
    "    charge=CentralCharge(\"c\",0)\n",
    "    println(charge)\n",
    "    println(Dimension(Kac=true,r=-2.0,s=-1,charge=charge))\n",
    "end"
   ]
  },
  {
   "cell_type": "code",
   "execution_count": null,
   "metadata": {},
   "outputs": [],
   "source": []
  }
 ],
 "metadata": {
  "kernelspec": {
   "display_name": "Julia 1.9.3",
   "language": "julia",
   "name": "julia-1.9"
  },
  "language_info": {
   "file_extension": ".jl",
   "mimetype": "application/julia",
   "name": "julia",
   "version": "1.9.3"
  },
  "orig_nbformat": 4
 },
 "nbformat": 4,
 "nbformat_minor": 2
}
