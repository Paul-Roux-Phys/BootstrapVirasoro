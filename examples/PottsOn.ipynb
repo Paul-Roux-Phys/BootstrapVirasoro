{
 "cells": [
  {
   "cell_type": "markdown",
   "id": "03777087",
   "metadata": {},
   "source": [
    "# Four point functions in the Potts and $O(n)$ models\n",
    "\n",
    "This notebook reproduces some known results about Potts and $O(n)$ four-point functions, using the new Julia code."
   ]
  },
  {
   "cell_type": "code",
   "execution_count": 110,
   "id": "5d7699d5",
   "metadata": {},
   "outputs": [
    {
     "name": "stderr",
     "output_type": "stream",
     "text": [
      "\u001b[32m\u001b[1m  Activating\u001b[22m\u001b[39m project at `~/Documents/Recherche/projet_these/code/BootstrapVirasoro`\n"
     ]
    }
   ],
   "source": [
    "setprecision(BigFloat, 64)\n",
    "Pkg.activate(\"..\")\n",
    "using BootstrapVirasoro, DoubleFloats"
   ]
  },
  {
   "cell_type": "markdown",
   "id": "ad8906b8",
   "metadata": {},
   "source": [
    "## Spectra\n",
    "\n",
    "We create functions to generate the spectra of the $O(n)$ and Potts CFTs, with a cutoff:\n",
    "\n",
    "\\begin{align}\n",
    "\\mathcal{S}^{O(n)} &= \\left\\{V^d_{\\langle 1,s\\rangle}\\right\\}_{s\\in 2\\mathbb{N}+1} \\bigcup \\left\\{V_{(r,s)}\\right\\}_{\\substack{r\\in \\frac12\\mathbb{N}^*\\\\ s\\in\\frac{1}{r}\\mathbb{Z}}}  \\ ,\n",
    " \\\\\n",
    " \\mathcal{S}^{PSU(n)} &= \\left\\{V^d_{\\langle 1,s\\rangle}\\right\\}_{s\\in\\mathbb{N}^*} \\bigcup \\left\\{V_{(r,s)}\\right\\}_{\\substack{r\\in \\mathbb{N}^*\\\\ s\\in\\frac{1}{r}\\mathbb{Z}}}  \\ ,\n",
    " \\\\\n",
    " \\mathcal{S}^\\text{Potts} &= \\left\\{V^d_{\\langle 1,s\\rangle}\\right\\}_{s\\in\\mathbb{N}^*} \\bigcup \\left\\{V_{(r,s)}\\right\\}_{\\substack{r\\in \\mathbb{N}+2\\\\ s\\in\\frac{1}{r}\\mathbb{Z}}} \\bigcup  \\left\\{ V_{P_{(0,s)}}\\right\\}_{s\\in \\mathbb{N}+\\frac12}\\ .\n",
    "\\end{align}\n"
   ]
  },
  {
   "cell_type": "code",
   "execution_count": 112,
   "id": "af82dfda",
   "metadata": {},
   "outputs": [
    {
     "data": {
      "text/plain": [
       "Degenerate:\n",
       "<1, 1>\n",
       "<1, 3>\n",
       "<1, 5>\n",
       "<1, 7>\n",
       "Non-diagonal:\n",
       "(1, 0), (1, 1)\n",
       "(2, -1//2), (2, 0), (2, 1//2), (2, 1)\n",
       "(3, -2//3), (3, -1//3), (3, 0), (3, 1//3), (3, 2//3), (3, 1)"
      ]
     },
     "execution_count": 112,
     "metadata": {},
     "output_type": "execute_result"
    }
   ],
   "source": [
    "# c = CentralCharge(β=1/(big\"0.8\" + big\"0.1\"*im))\n",
    "c = CC(β=1/ComplexDF64(df64\"0.8\", df64\"0.1\"))\n",
    "Δmax = 10.\n",
    "\n",
    "indices = ((1//2, 0), (1//2, 0), (1, 0), (1, 0))\n",
    "\n",
    "fields = [Field(c, r=r, s=s) for (r, s) in indices]\n",
    "co = Correlation(fields..., Δmax=Δmax)\n",
    "\n",
    "LoopFields = Dict(\n",
    "    :On => vcat(\n",
    "        [Field(c, r=r, s=s) for r in 1//2:1//2:50 for s in -1+1//r:1//r:1 if r*s%1 == 0],\n",
    "        [Field(c, r=1, s=s, diagonal=true) for s in 1:2:50]\n",
    "    ),\n",
    "    :PSUn => vcat(\n",
    "        [Field(c, r=r, s=s) for r in 1:50 for s in -1+1//r:1//r:1],\n",
    "        [Field(c, r=1, s=s, diagonal=true) for s in 1:50]\n",
    "    ),\n",
    "    :Potts => vcat(\n",
    "        [Field(c, r=r, s=s) for r in 2:50 for s in -1+1//r:1//r:1],\n",
    "        [Field(c, r=0, s=s, diagonal=true) for s in 1//2:1:3//2],\n",
    "        [Field(c, r=1, s=s, diagonal=true) for s in 1:50]\n",
    "    )\n",
    ")\n",
    "\n",
    "LoopSpectra = Dict(\n",
    "    model => Spectrum(LoopFields[model], Δmax, interchiral=true)\n",
    "    for model in (:On, :PSUn, :Potts)\n",
    ")\n",
    "\n",
    "SOn = LoopSpectra[:On];\n",
    "SOn"
   ]
  },
  {
   "cell_type": "markdown",
   "id": "fc39c848",
   "metadata": {},
   "source": [
    "## Bootstrap equations"
   ]
  },
  {
   "cell_type": "markdown",
   "id": "d45087a3",
   "metadata": {},
   "source": [
    "We numerically solve\n",
    "\n",
    "\\begin{align}\n",
    "\\sum_{V \\in \\mathcal{S}^{(s)}} D^{(s)}_V \\mathcal I^{(s)}_V (x) = \\sum_{V \\in \\mathcal{S}^{(t)}} D^{(t)}_V \\mathcal I^{(t)}_V (x) = \\sum_{V \\in \\mathcal{S}^{(u)}} D^{(u)}_V \\mathcal I^{(u)}_V (x),\n",
    "\\end{align}\n",
    "\n",
    "for some channel spectra $\\mathcal{S}^{(s)}, \\mathcal{S}^{(t)}, \\mathcal{S}^{(u)}$, where $\\mathcal I$ are interchiral conformal blocks, and the $D$'s are four-point structure constants.\n",
    "\n",
    "We solve this system as\n",
    "\\begin{equation}\n",
    "\\underbrace{\n",
    "\\begin{bmatrix}\n",
    "[\\mathcal I^{(s)}_{V_j}(x_i)]_{ij} & [-\\mathcal I^{(t)}_{V_j}(x_i)]_{ij} & [0] \\\\\n",
    "[\\mathcal I^{(s)}_{V_j}(x_i)]_{ij} & [0] & [-\\mathcal I^{(u)}_{V_j}(x_i)]_{ij}\n",
    "\\end{bmatrix}}_A\n",
    "\\begin{bmatrix}\n",
    "[D^{(s)}_{V_j}]_j \\\\\n",
    "[D^{(t)}_{V_j}]_j \\\\\n",
    "[D^{(u)}_{V_j}]_j\n",
    "\\end{bmatrix} = \n",
    "\\begin{bmatrix}\n",
    "\\sum_{V_j \\in \\text{ known}} D^{(t)}_{V_j} \\mathcal{I}^{(t)}_{V_j}(x_i) - \\sum_{V_j \\in \\text{ known}} D^{(s)}_{V_j} \\mathcal{I}^{(s)}_{V_j}(x_i)\\\\\n",
    "\\sum_{V_j \\in \\text{ known}} D^{(u)}_{V_j} \\mathcal{I}^{(u)}_{V_j}(x_i) - \\sum_{V_j \\in \\text{ known}} D^{(s)}_{V_j} \\mathcal{I}^{(s)}_{V_j}(x_i)\n",
    "\\end{bmatrix}\n",
    "\\end{equation}\n",
    "where the $x_i$ take more values than there are unknowns, i.e. $A$ is a tall rectangular matrix. \n",
    "\n",
    "To check numerical convergence, we solve two subsystems and compare the solutions. If the solutions are close, we know the computation has converged."
   ]
  },
  {
   "cell_type": "code",
   "execution_count": 113,
   "id": "dcb3fc31",
   "metadata": {},
   "outputs": [
    {
     "data": {
      "text/plain": [
       "\u001b[31m\u001b[1mChannel s\u001b[22m\u001b[39m\n",
       "\u001b[31m\u001b[1m==========\u001b[22m\u001b[39m\n",
       "Fields        | Structure constants          | Errors                     \n",
       "-------------------------------------------------------------------\n",
       "<1, 1>        |  1.00000e+00 + 0.00000e+00im | 0.00000e+00 + 0.00000e+00im\n",
       "<1, 3>        | -1.47107e-03 + 2.61048e-03im |  9.47561e-01 + 0.00000e+00im\n",
       "<1, 5>        |  6.80347e-09 - 6.51724e-10im |  1.05080e+00 + 0.00000e+00im\n",
       "<1, 7>        |  2.05501e-17 - 8.15714e-18im |  1.74517e+00 + 0.00000e+00im\n",
       "V_{(2, 0)}    |  7.97271e-17 + 2.72250e-16im |  1.18687e+00 + 0.00000e+00im\n",
       "V_{(2, 1//2)} |  1.18389e-16 - 1.49810e-16im |  1.20245e+00 + 0.00000e+00im\n",
       "V_{(2, 1)}    | -7.41354e-17 + 1.37069e-17im |  1.18746e+00 + 0.00000e+00im\n",
       "V_{(2, 3//2)} |  1.68664e-17 + 1.09953e-19im |  1.13402e+00 + 0.00000e+00im\n",
       "V_{(3, 0)}    | -5.47386e-14 - 7.02483e-14im |  1.67373e+00 + 0.00000e+00im\n",
       "V_{(3, 1//3)} |  1.10542e-14 + 8.34562e-14im |  1.81008e+00 + 0.00000e+00im\n",
       "V_{(3, 2//3)} |  2.22284e-14 - 5.72438e-14im |  1.80211e+00 + 0.00000e+00im\n",
       "V_{(3, 1)}    | -2.47064e-14 + 2.43670e-14im |  1.61469e+00 + 0.00000e+00im\n",
       "V_{(3, 4//3)} |  1.40973e-14 - 7.11466e-15im |  1.50696e+00 + 0.00000e+00im\n",
       "V_{(3, 5//3)} | -5.90655e-15 + 1.50736e-15im |  1.54670e+00 + 0.00000e+00im\n",
       "\u001b[31m\u001b[1mChannel t\u001b[22m\u001b[39m\n",
       "\u001b[31m\u001b[1m==========\u001b[22m\u001b[39m\n",
       "Fields        | Structure constants          | Errors                     \n",
       "-------------------------------------------------------------------\n",
       "<1, 1>        | -2.07449e-01 + 3.00745e-01im |  8.34253e-01 + 0.00000e+00im\n",
       "<1, 3>        | -1.17595e-04 - 1.77003e-03im |  2.10518e+00 + 0.00000e+00im\n",
       "<1, 5>        |  6.71044e-09 + 3.73956e-09im |  2.27826e+00 + 0.00000e+00im\n",
       "<1, 7>        |  3.11154e-18 + 1.36894e-17im |  6.42543e-01 + 0.00000e+00im\n",
       "V_{(1, 0)}    | -3.73512e-17 + 6.70179e-17im |  3.11986e+00 + 0.00000e+00im\n",
       "V_{(1, 1)}    | -4.66142e-18 + 2.52884e-18im |  1.18815e+00 + 0.00000e+00im\n",
       "V_{(2, 0)}    | -1.13232e-17 - 2.42811e-17im |  6.21533e-01 + 0.00000e+00im\n",
       "V_{(2, 1//2)} |  2.32339e-18 - 9.48594e-18im |  8.58683e-01 + 0.00000e+00im\n",
       "V_{(2, 1)}    | -2.96757e-18 - 2.91494e-19im |  1.00067e+00 + 0.00000e+00im\n",
       "V_{(2, 3//2)} | -4.52542e-19 - 7.98749e-19im |  1.09435e+00 + 0.00000e+00im\n",
       "V_{(3, 0)}    |  1.52617e-17 + 1.71339e-18im |  1.35799e+00 + 0.00000e+00im\n",
       "V_{(3, 1//3)} |  1.40864e-18 + 6.79907e-18im |  1.20721e+00 + 0.00000e+00im\n",
       "V_{(3, 2//3)} |  5.04605e-19 + 1.37930e-18im |  6.31104e-01 + 0.00000e+00im\n",
       "V_{(3, 1)}    |  1.82809e-20 + 2.09684e-20im |  8.76795e-01 + 0.00000e+00im\n",
       "V_{(3, 4//3)} |  1.50595e-18 - 2.85566e-19im |  7.87364e-01 + 0.00000e+00im\n",
       "V_{(3, 5//3)} |  5.07713e-19 + 9.71426e-19im |  1.17115e+00 + 0.00000e+00im\n",
       "\u001b[31m\u001b[1mChannel u\u001b[22m\u001b[39m\n",
       "\u001b[31m\u001b[1m==========\u001b[22m\u001b[39m\n",
       "Fields        | Structure constants          | Errors                     \n",
       "-------------------------------------------------------------------\n",
       "<1, 1>        |  2.05501e-17 - 8.15714e-18im |  1.74517e+00 + 0.00000e+00im\n",
       "<1, 3>        |  2.22284e-14 - 5.72438e-14im |  1.80211e+00 + 0.00000e+00im\n",
       "<1, 5>        | -1.47107e-03 + 2.61048e-03im |  9.47561e-01 + 0.00000e+00im\n",
       "<1, 7>        |  1.68664e-17 + 1.09953e-19im |  1.13402e+00 + 0.00000e+00im\n",
       "V_{(1, 0)}    |  3.11154e-18 + 1.36894e-17im |  6.42543e-01 + 0.00000e+00im\n",
       "V_{(1, 1)}    | -2.96757e-18 - 2.91494e-19im |  1.00067e+00 + 0.00000e+00im\n",
       "V_{(2, 0)}    | -5.47386e-14 - 7.02483e-14im |  1.67373e+00 + 0.00000e+00im\n",
       "V_{(2, 1//2)} | -2.47064e-14 + 2.43670e-14im |  1.61469e+00 + 0.00000e+00im\n",
       "V_{(2, 1)}    | -7.41354e-17 + 1.37069e-17im |  1.18746e+00 + 0.00000e+00im\n",
       "V_{(2, 3//2)} |  1.10542e-14 + 8.34562e-14im |  1.81008e+00 + 0.00000e+00im\n",
       "V_{(3, 0)}    | -2.07449e-01 + 3.00745e-01im |  8.34253e-01 + 0.00000e+00im\n",
       "V_{(3, 1//3)} | -5.90655e-15 + 1.50736e-15im |  1.54670e+00 + 0.00000e+00im\n",
       "V_{(3, 2//3)} |  1.40973e-14 - 7.11466e-15im |  1.50696e+00 + 0.00000e+00im\n",
       "V_{(3, 1)}    |  6.80347e-09 - 6.51724e-10im |  1.05080e+00 + 0.00000e+00im\n",
       "V_{(3, 4//3)} |  7.97271e-17 + 2.72250e-16im |  1.18687e+00 + 0.00000e+00im\n",
       "V_{(3, 5//3)} |  1.18389e-16 - 1.49810e-16im |  1.20245e+00 + 0.00000e+00im\n"
      ]
     },
     "execution_count": 113,
     "metadata": {},
     "output_type": "execute_result"
    }
   ],
   "source": [
    "b = BootstrapSystem(Schan_On);\n",
    "compute_linear_system!(b);\n",
    "solve!(b)\n",
    "b.consts"
   ]
  },
  {
   "cell_type": "code",
   "execution_count": 114,
   "id": "5570ca82",
   "metadata": {},
   "outputs": [
    {
     "data": {
      "text/plain": [
       "52×45 Matrix{Complex{BigFloat}}:\n",
       "   0.128098-0.254513im     1.02108e+15-4.29043e+16im  …       0.0+0.0im\n",
       "   0.196034-0.730769im    -2.49391e+14-4.79099e+16im          0.0+0.0im\n",
       "   0.182057-0.510856im     2.11377e+14-4.58668e+16im          0.0+0.0im\n",
       "   0.166957-0.408419im     4.32477e+14-4.51817e+16im          0.0+0.0im\n",
       "   0.083955-0.177574im     8.49211e+14-4.22715e+16im          0.0+0.0im\n",
       "   0.152826-0.378053im     2.91241e+14-4.57896e+16im  …       0.0+0.0im\n",
       "  0.0351539-0.0286636im    3.74852e+15-4.19858e+16im          0.0+0.0im\n",
       "   0.114839-0.192248im     1.40962e+15-4.26402e+16im          0.0+0.0im\n",
       "  0.0288052-0.0334415im    2.37357e+15-4.05415e+16im          0.0+0.0im\n",
       "   0.198657-0.664329im    -2.12632e+14-4.77863e+16im          0.0+0.0im\n",
       "  0.0452373-0.0468913im    2.88764e+15-4.19413e+16im  …       0.0+0.0im\n",
       "  0.0788153-0.141888im     1.22702e+15-4.1663e+16im           0.0+0.0im\n",
       "  0.0577913-0.0653575im    2.58247e+15-4.11804e+16im          0.0+0.0im\n",
       "           ⋮                                          ⋱  \n",
       "   0.152497-0.421138im     3.48437e+14-4.47679e+16im  …  0.991561+0.0392214im\n",
       "   0.192172-0.96319im     -6.39615e+14-5.01007e+16im      1.01903+0.0543873im\n",
       "   0.115343-0.42501im     -1.19747e+14-4.58734e+16im     0.937818+0.0649223im\n",
       "  0.0186145-0.0104765im    5.04275e+15-4.27482e+16im      1.03167-0.0830258im\n",
       "  0.0199356-0.0174757im    3.32288e+15-4.09509e+16im     0.929656-0.0232702im\n",
       "  0.0859467-0.117245im     2.01279e+15-4.17285e+16im  …   1.04414-0.0188319im\n",
       "   0.039128-0.0927042im    4.90115e+14-4.21635e+16im     0.878017+0.061362im\n",
       " 0.00471686-0.00923835im   7.76588e+14-4.09449e+16im     0.842649+0.0594769im\n",
       "    0.11366-0.331186im     2.52167e+14-4.4341e+16im      0.943763+0.0544434im\n",
       "  0.0266257-0.0478457im    1.07933e+15-4.09359e+16im     0.874697+0.0463098im\n",
       "  0.0443611-0.0410342im    3.27324e+15-4.14666e+16im  …   1.03404-0.0449108im\n",
       "   0.166648-0.448482im     3.64079e+14-4.50164e+16im      1.01711+0.0306473im"
      ]
     },
     "execution_count": 114,
     "metadata": {},
     "output_type": "execute_result"
    }
   ],
   "source": [
    "b.matrix.LHS"
   ]
  },
  {
   "cell_type": "code",
   "execution_count": null,
   "id": "f429f670",
   "metadata": {},
   "outputs": [],
   "source": []
  }
 ],
 "metadata": {
  "kernelspec": {
   "display_name": "Julia 1.11.4",
   "language": "julia",
   "name": "julia-1.11"
  },
  "language_info": {
   "file_extension": ".jl",
   "mimetype": "application/julia",
   "name": "julia",
   "version": "1.11.4"
  }
 },
 "nbformat": 4,
 "nbformat_minor": 5
}
