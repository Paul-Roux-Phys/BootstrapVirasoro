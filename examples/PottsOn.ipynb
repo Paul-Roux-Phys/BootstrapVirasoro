{
 "cells": [
  {
   "cell_type": "markdown",
   "id": "03777087",
   "metadata": {},
   "source": [
    "# Four point functions in the Potts and $O(n)$ models\n",
    "\n",
    "This notebook reproduces some known results about Potts and $O(n)$ four-point functions, using the new Julia code."
   ]
  },
  {
   "cell_type": "code",
   "execution_count": 2,
   "id": "5d7699d5",
   "metadata": {},
   "outputs": [
    {
     "name": "stderr",
     "output_type": "stream",
     "text": [
      "\u001b[32m\u001b[1m  Activating\u001b[22m\u001b[39m project at `~/Documents/Recherche/projet_these/code/BootstrapVirasoro`\n"
     ]
    }
   ],
   "source": [
    "setprecision(BigFloat, 64)\n",
    "Pkg.activate(\"..\")\n",
    "using DoubleFloats, BootstrapVirasoro"
   ]
  },
  {
   "cell_type": "markdown",
   "id": "ad8906b8",
   "metadata": {},
   "source": [
    "## Spectra\n",
    "\n",
    "We create functions to generate the spectra of the $O(n)$ and Potts CFTs, with a cutoff:\n",
    "\n",
    "\\begin{align}\n",
    "\\mathcal{S}^{O(n)} &= \\left\\{V^d_{\\langle 1,s\\rangle}\\right\\}_{s\\in 2\\mathbb{N}+1} \\bigcup \\left\\{V_{(r,s)}\\right\\}_{\\substack{r\\in \\frac12\\mathbb{N}^*\\\\ s\\in\\frac{1}{r}\\mathbb{Z}}}  \\ ,\n",
    " \\\\\n",
    " \\mathcal{S}^{PSU(n)} &= \\left\\{V^d_{\\langle 1,s\\rangle}\\right\\}_{s\\in\\mathbb{N}^*} \\bigcup \\left\\{V_{(r,s)}\\right\\}_{\\substack{r\\in \\mathbb{N}^*\\\\ s\\in\\frac{1}{r}\\mathbb{Z}}}  \\ ,\n",
    " \\\\\n",
    " \\mathcal{S}^\\text{Potts} &= \\left\\{V^d_{\\langle 1,s\\rangle}\\right\\}_{s\\in\\mathbb{N}^*} \\bigcup \\left\\{V_{(r,s)}\\right\\}_{\\substack{r\\in \\mathbb{N}+2\\\\ s\\in\\frac{1}{r}\\mathbb{Z}}} \\bigcup  \\left\\{ V_{P_{(0,s)}}\\right\\}_{s\\in \\mathbb{N}+\\frac12}\\ .\n",
    "\\end{align}\n"
   ]
  },
  {
   "cell_type": "code",
   "execution_count": null,
   "id": "af82dfda",
   "metadata": {},
   "outputs": [
    {
     "data": {
      "text/plain": [
       "Degenerate:\n",
       "<1, 1>\n",
       "<1, 3>\n",
       "<1, 5>\n",
       "<1, 7>\n",
       "Non-diagonal:\n",
       "(1, 0), (1, 1)\n",
       "(2, -1//2), (2, 0), (2, 1//2), (2, 1)\n",
       "(3, -2//3), (3, -1//3), (3, 0), (3, 1//3), (3, 2//3), (3, 1)"
      ]
     },
     "execution_count": 10,
     "metadata": {},
     "output_type": "execute_result"
    }
   ],
   "source": [
    "# c = CentralCharge(β=1/(big\"0.8\" + big\"0.1\"*im))\n",
    "c = CC(β=1/(big\"0.8\" + big\"0.1\"*im))\n",
    "Δmax = 20.\n",
    "\n",
    "indices = ((1//2, 0), (1//2, 0), (1, 0), (1, 0))\n",
    "\n",
    "fields = [Field(c, r=r, s=s) for (r, s) in indices]\n",
    "co = Correlation(fields..., Δmax=Δmax)\n",
    "\n",
    "LoopFields = Dict(\n",
    "    :On => vcat(\n",
    "        [Field(c, r=r, s=s) for r in 1//2:1//2:50 for s in -10+1//r:1//r:10 if r*s%1 == 0],\n",
    "        [Field(c, r=1, s=s, diagonal=true) for s in 1:2:50]\n",
    "    ),\n",
    "    :PSUn => vcat(\n",
    "        [Field(c, r=r, s=s) for r in 1:50 for s in -10+1//r:1//r:10],\n",
    "        [Field(c, r=1, s=s, diagonal=true) for s in 1:50]\n",
    "    ),\n",
    "    :Potts => vcat(\n",
    "        [Field(c, r=r, s=s) for r in 2:50 for s in -10+1//r:1//r:10],\n",
    "        [Field(c, r=0, s=s, diagonal=true) for s in 1//2:1:3//2],\n",
    "        [Field(c, r=1, s=s, diagonal=true) for s in 1:50]\n",
    "    )\n",
    ")\n",
    "\n",
    "LoopSpectra = Dict(\n",
    "    model => Spectrum(LoopFields[model], Δmax, interchiral=false)\n",
    "    for model in (:On, :PSUn, :Potts)\n",
    ")\n",
    "\n",
    "SOn = LoopSpectra[:On];\n",
    "SOn"
   ]
  },
  {
   "cell_type": "markdown",
   "id": "fc39c848",
   "metadata": {},
   "source": [
    "## Bootstrap equations"
   ]
  },
  {
   "cell_type": "markdown",
   "id": "d45087a3",
   "metadata": {},
   "source": [
    "We numerically solve\n",
    "\n",
    "\\begin{align}\n",
    "\\sum_{V \\in \\mathcal{S}^{(s)}} D^{(s)}_V \\mathcal I^{(s)}_V (x) = \\sum_{V \\in \\mathcal{S}^{(t)}} D^{(t)}_V \\mathcal I^{(t)}_V (x) = \\sum_{V \\in \\mathcal{S}^{(u)}} D^{(u)}_V \\mathcal I^{(u)}_V (x),\n",
    "\\end{align}\n",
    "\n",
    "for some channel spectra $\\mathcal{S}^{(s)}, \\mathcal{S}^{(t)}, \\mathcal{S}^{(u)}$, where $\\mathcal I$ are interchiral conformal blocks, and the $D$'s are four-point structure constants.\n",
    "\n",
    "We solve this system as\n",
    "\\begin{equation}\n",
    "\\underbrace{\n",
    "\\begin{bmatrix}\n",
    "[\\mathcal I^{(s)}_{V_j}(x_i)]_{ij} & [-\\mathcal I^{(t)}_{V_j}(x_i)]_{ij} & [0] \\\\\n",
    "[\\mathcal I^{(s)}_{V_j}(x_i)]_{ij} & [0] & [-\\mathcal I^{(u)}_{V_j}(x_i)]_{ij}\n",
    "\\end{bmatrix}}_A\n",
    "\\begin{bmatrix}\n",
    "[D^{(s)}_{V_j}]_j \\\\\n",
    "[D^{(t)}_{V_j}]_j \\\\\n",
    "[D^{(u)}_{V_j}]_j\n",
    "\\end{bmatrix} = \n",
    "\\begin{bmatrix}\n",
    "\\sum_{V_j \\in \\text{ known}} D^{(t)}_{V_j} \\mathcal{I}^{(t)}_{V_j}(x_i) - \\sum_{V_j \\in \\text{ known}} D^{(s)}_{V_j} \\mathcal{I}^{(s)}_{V_j}(x_i)\\\\\n",
    "\\sum_{V_j \\in \\text{ known}} D^{(u)}_{V_j} \\mathcal{I}^{(u)}_{V_j}(x_i) - \\sum_{V_j \\in \\text{ known}} D^{(s)}_{V_j} \\mathcal{I}^{(s)}_{V_j}(x_i)\n",
    "\\end{bmatrix}\n",
    "\\end{equation}\n",
    "where the $x_i$ take more values than there are unknowns, i.e. $A$ is a tall rectangular matrix. \n",
    "\n",
    "To check numerical convergence, we solve two subsystems and compare the solutions. If the solutions are close, we know the computation has converged."
   ]
  },
  {
   "cell_type": "code",
   "execution_count": 11,
   "id": "dcb3fc31",
   "metadata": {},
   "outputs": [
    {
     "data": {
      "text/plain": [
       "\u001b[31m\u001b[1mChannel s\u001b[22m\u001b[39m\n",
       "\u001b[31m\u001b[1m==========\u001b[22m\u001b[39m\n",
       "Fields         | Structure constants          | Errors                     \n",
       "--------------------------------------------------------------------\n",
       "<1, 1>         |  1.00000e+00 + 0.00000e+00im | 0.00000e+00 + 0.00000e+00im\n",
       "<1, 3>         |  3.72032e-02 - 3.74640e-01im |  5.12197e-01 + 0.00000e+00im\n",
       "<1, 5>         |  3.45387e-01 + 1.56964e-02im |  4.96650e-01 + 0.00000e+00im\n",
       "<1, 7>         |  1.69441e-01 + 4.34862e-02im |  5.41786e-01 + 0.00000e+00im\n",
       "V_{(1, 0)}     | -3.05104e-02 + 1.59927e+00im |  2.20395e-01 + 0.00000e+00im\n",
       "V_{(1, 1)}     |  1.96437e-02 + 2.09434e-01im |  2.72705e-01 + 0.00000e+00im\n",
       "V_{(2, -1//2)} | -8.73479e-02 + 2.36294e-02im |  5.79182e-01 + 0.00000e+00im\n",
       "V_{(2, 0)}     | -5.39634e-01 + 3.37303e-02im |  4.51939e-01 + 0.00000e+00im\n",
       "V_{(2, 1//2)}  | -7.79261e-02 + 4.22799e-02im |  3.66798e-01 + 0.00000e+00im\n",
       "V_{(2, 1)}     |  3.83829e-03 - 4.05964e-03im |  5.83105e-01 + 0.00000e+00im\n",
       "V_{(3, -2//3)} |  1.93942e-01 + 2.80230e-01im |  5.25918e-01 + 0.00000e+00im\n",
       "V_{(3, -1//3)} |  9.37947e-02 - 6.68950e-01im |  5.32205e-01 + 0.00000e+00im\n",
       "V_{(3, 0)}     | -5.81578e-01 + 3.32099e-01im |  6.38272e-01 + 0.00000e+00im\n",
       "V_{(3, 1//3)}  |  3.85201e-01 - 2.93882e-01im |  6.12524e-01 + 0.00000e+00im\n",
       "V_{(3, 2//3)}  | -2.01482e-01 + 1.11930e-01im |  6.16211e-01 + 0.00000e+00im\n",
       "V_{(3, 1)}     |  6.36410e-02 - 1.29366e-03im |  5.66055e-01 + 0.00000e+00im\n",
       "\u001b[31m\u001b[1mChannel t\u001b[22m\u001b[39m\n",
       "\u001b[31m\u001b[1m==========\u001b[22m\u001b[39m\n",
       "Fields         | Structure constants          | Errors                     \n",
       "--------------------------------------------------------------------\n",
       "<1, 1>         |  3.52260e-01 - 7.17837e-01im |  1.43583e-01 + 0.00000e+00im\n",
       "<1, 3>         | -1.07110e+00 - 1.74409e-01im |  1.70016e-01 + 0.00000e+00im\n",
       "<1, 5>         | -1.38492e-02 + 2.53617e-03im |  5.24545e-01 + 0.00000e+00im\n",
       "<1, 7>         | -1.27005e-06 + 1.14803e-06im |  4.96528e-01 + 0.00000e+00im\n",
       "V_{(1, 0)}     |  1.11340e-02 - 1.34757e-02im |  6.26957e-01 + 0.00000e+00im\n",
       "V_{(1, 1)}     |  2.06161e-02 - 2.34132e-02im |  4.39142e-02 + 0.00000e+00im\n",
       "V_{(2, -1//2)} | -6.56146e-02 + 5.29451e-02im |  3.14740e-01 + 0.00000e+00im\n",
       "V_{(2, 0)}     | -1.63962e-01 - 1.48903e-01im |  3.58059e-01 + 0.00000e+00im\n",
       "V_{(2, 1//2)}  |  9.27788e-02 - 5.49997e-02im |  3.02162e-01 + 0.00000e+00im\n",
       "V_{(2, 1)}     |  1.38232e-02 + 1.88320e-02im |  2.49725e-01 + 0.00000e+00im\n",
       "V_{(3, -2//3)} | -8.10442e-03 - 5.49744e-05im |  1.56203e-01 + 0.00000e+00im\n",
       "V_{(3, -1//3)} | -9.01258e-03 - 2.09852e-02im |  7.23606e-02 + 0.00000e+00im\n",
       "V_{(3, 0)}     | -3.89139e-03 - 5.63071e-03im |  1.21385e+00 + 0.00000e+00im\n",
       "V_{(3, 1//3)}  |  2.08963e-02 + 3.95109e-03im |  9.97893e-02 + 0.00000e+00im\n",
       "V_{(3, 2//3)}  |  3.26152e-03 + 6.69411e-03im |  1.70800e-01 + 0.00000e+00im\n",
       "V_{(3, 1)}     | -4.30987e-04 + 1.03992e-03im |  2.38626e-01 + 0.00000e+00im\n",
       "\u001b[31m\u001b[1mChannel u\u001b[22m\u001b[39m\n",
       "\u001b[31m\u001b[1m==========\u001b[22m\u001b[39m\n",
       "Fields         | Structure constants          | Errors                     \n",
       "--------------------------------------------------------------------\n",
       "<1, 1>         |  1.69441e-01 + 4.34862e-02im |  5.41786e-01 + 0.00000e+00im\n",
       "<1, 3>         | -2.01482e-01 + 1.11930e-01im |  6.16211e-01 + 0.00000e+00im\n",
       "<1, 5>         |  3.72032e-02 - 3.74640e-01im |  5.12197e-01 + 0.00000e+00im\n",
       "<1, 7>         |  3.85201e-01 - 2.93882e-01im |  6.12524e-01 + 0.00000e+00im\n",
       "V_{(2, -1//2)} | -7.79261e-02 + 4.22799e-02im |  3.66798e-01 + 0.00000e+00im\n",
       "V_{(2, 0)}     |  1.96437e-02 + 2.09434e-01im |  2.72705e-01 + 0.00000e+00im\n",
       "V_{(2, 1//2)}  |  6.36410e-02 - 1.29366e-03im |  5.66055e-01 + 0.00000e+00im\n",
       "V_{(2, 1)}     |  3.83829e-03 - 4.05964e-03im |  5.83105e-01 + 0.00000e+00im\n",
       "V_{(3, -2//3)} | -8.73479e-02 + 2.36294e-02im |  5.79182e-01 + 0.00000e+00im\n",
       "V_{(3, -1//3)} |  9.37947e-02 - 6.68950e-01im |  5.32205e-01 + 0.00000e+00im\n",
       "V_{(3, 0)}     | -5.81578e-01 + 3.32099e-01im |  6.38272e-01 + 0.00000e+00im\n",
       "V_{(3, 1//3)}  |  1.93942e-01 + 2.80230e-01im |  5.25918e-01 + 0.00000e+00im\n",
       "V_{(3, 2//3)}  | -5.39634e-01 + 3.37303e-02im |  4.51939e-01 + 0.00000e+00im\n",
       "V_{(3, 1)}     |  3.45387e-01 + 1.56964e-02im |  4.96650e-01 + 0.00000e+00im\n"
      ]
     },
     "execution_count": 11,
     "metadata": {},
     "output_type": "execute_result"
    }
   ],
   "source": [
    "Schan_On = ChannelSpectra(\n",
    "    co, LoopSpectra[:On],\n",
    "    signature = Dict(:s => 1, :t => 1//2, :u => 3//2)   \n",
    ")\n",
    "b = BootstrapSystem(Schan_On);\n",
    "compute_linear_system!(b)\n",
    "solve!(b, precision_factor=5)\n",
    "b.consts"
   ]
  },
  {
   "cell_type": "code",
   "execution_count": 7,
   "id": "5570ca82",
   "metadata": {},
   "outputs": [
    {
     "data": {
      "text/plain": [
       "Dict{Symbol, Dict{Field{Complex{BigFloat}}, Complex{BigFloat}}} with 3 entries:\n",
       "  :s => Dict(V_{(2, 1)}=>0.0+0.0im, <1, 1>=>0.0+0.0im, <1, 7>=>0.0+0.0im, V_{(2…\n",
       "  :u => Dict(V_{(2, 1)}=>0.0+0.0im, <1, 1>=>0.0+0.0im, <1, 7>=>0.0+0.0im, V_{(2…\n",
       "  :t => Dict(V_{(2, 1)}=>0.0+0.0im, <1, 1>=>0.0+0.0im, <1, 7>=>0.0+0.0im, V_{(2…"
      ]
     },
     "execution_count": 7,
     "metadata": {},
     "output_type": "execute_result"
    }
   ],
   "source": [
    "b.consts.errors"
   ]
  },
  {
   "cell_type": "code",
   "execution_count": null,
   "id": "f429f670",
   "metadata": {},
   "outputs": [],
   "source": []
  }
 ],
 "metadata": {
  "kernelspec": {
   "display_name": "Julia 1.11.4",
   "language": "julia",
   "name": "julia-1.11"
  },
  "language_info": {
   "file_extension": ".jl",
   "mimetype": "application/julia",
   "name": "julia",
   "version": "1.11.4"
  }
 },
 "nbformat": 4,
 "nbformat_minor": 5
}
