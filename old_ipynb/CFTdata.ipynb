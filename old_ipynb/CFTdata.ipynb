{
 "cells": [
  {
   "attachments": {},
   "cell_type": "markdown",
   "metadata": {},
   "source": [
    "# Conformal Field Theory data\n",
    "\n",
    "This notebook contains composite types (structures) representing objects in CFTs:\n",
    "* the central charge\n",
    "* fields"
   ]
  },
  {
   "cell_type": "code",
   "execution_count": 1,
   "metadata": {},
   "outputs": [],
   "source": [
    "#when not working on this notebook set to false to avoid running cells when importing\n",
    "run_tests=true;\n",
    "\n",
    "#packages\n",
    "using BenchmarkTools"
   ]
  },
  {
   "attachments": {},
   "cell_type": "markdown",
   "metadata": {},
   "source": [
    "## Central charge\n",
    "\n",
    "The central charge $c$ can be parametrized by the variables $B$, $b$ or $\\beta$ such that\n",
    "$$\n",
    "c = 13 + 6B + 6 B^{-1} \\quad , \\quad B = b^2 = -\\beta^2 \n",
    "$$\n",
    "Conversely, we have \n",
    "$$\n",
    "B = \\frac{c-13 \\pm \\sqrt{(c-1)(c-25)}}{12}\n",
    "$$\n",
    "\n",
    "We represent a central charge as a dictionary with 4 keys $b$,$\\beta$,$B$,$c$, and the associated values of the parameters."
   ]
  },
  {
   "cell_type": "code",
   "execution_count": 2,
   "metadata": {},
   "outputs": [],
   "source": [
    "#=  The central charge can be given directly or as a function of b,β,B. No matter what parameter\n",
    "    is passed we compute B from it, then b,β,c. \n",
    "    We ensure that the relation between b and beta never changes (sqrt branch). =#\n",
    "\n",
    "\n",
    "Bfrom(parameter,value) = Dict(\n",
    "        \"c\" => (value-13+sqrt(complex((value-1)*(value-25))))/12,\n",
    "        \"b\" => value^2,\n",
    "        \"β\" => -value^2,\n",
    "        \"B\" => value\n",
    "    )[parameter]\n",
    "\n",
    "Bto(parameter,value) = Dict(\n",
    "        \"c\" => 13+6*value+6/value,\n",
    "        \"b\" => sqrt(complex(value)),\n",
    "        \"β\" => im*sqrt(complex(value)),\n",
    "        \"B\" => value\n",
    "    )[parameter]\n",
    "\n",
    "# T is the type of the parameter; either Complex{Float64} or Complex{BigFloat} for arbitrary precision.\n",
    "struct CentralCharge{T}\n",
    "    # T is the type of the parameterS; either Complex{Float64} or Complex{BigFloat} for arbitrary precision.\n",
    "    values::Dict{String,T}\n",
    "\n",
    "end\n",
    "\n",
    "# Constructor\n",
    "function CentralCharge(parameter=\"c\",value=1)\n",
    "    T=typeof(value)\n",
    "    B=Bfrom(parameter,value)\n",
    "    dict=Dict(key => Bto(key,B) for key in (\"c\",\"b\",\"β\",\"B\"))\n",
    "    CentralCharge{complex(T)}(dict)\n",
    "end\n",
    "\n",
    "#Print an object of type CentralCharge\n",
    "function Base.show(io::IO,charge::CentralCharge)\n",
    "    for (key,value) in charge.values\n",
    "        println(io, \"$key = $value\")\n",
    "    end\n",
    "end\n",
    "\n",
    "#overload [] to access values in charge\n",
    "Base.getindex(charge::CentralCharge,key) = charge.values[key]"
   ]
  },
  {
   "cell_type": "code",
   "execution_count": 3,
   "metadata": {},
   "outputs": [
    {
     "name": "stdout",
     "output_type": "stream",
     "text": [
      "B = -0.75 + 0.0im\n",
      "c = 0.5 + 0.0im\n",
      "b = 0.0 + 0.8660254037844386im\n",
      "β = -0.8660254037844386 + 0.0im\n",
      "\n",
      "b = "
     ]
    },
    {
     "name": "stdout",
     "output_type": "stream",
     "text": [
      "0.0 + 0.8660254037844386467637231707529361834714026269051903140279034897259665084543988im\n"
     ]
    }
   ],
   "source": [
    "if run_tests\n",
    "    #Create a charge with double precision by passing c\n",
    "    charge=CentralCharge(\"c\",0.5)\n",
    "    #Create a charge with arbitrary precision\n",
    "    charge2=CentralCharge(\"B\",big(-0.75))\n",
    "    #Print all parameters\n",
    "    println(charge)\n",
    "    #Access parameters with [\"\"]\n",
    "    println(\"b = \",charge2[\"b\"])\n",
    "\n",
    "end"
   ]
  },
  {
   "attachments": {},
   "cell_type": "markdown",
   "metadata": {},
   "source": [
    "## Fields\n",
    "\n",
    "Fields in 2D CFTs are elements of representations of the Virasoro algebra.\n",
    "\n",
    "Non-logarithmic fields are elements of representations where the generators $L_0$ and $\\bar L_0$ of the Virasoro algebra act diagonally, with eigenvalues called conformal weights or dimensions and respectively denoted $(\\Delta,\\bar \\Delta)$. \n",
    "Logarithmic fields are elements of representations where $L_0$ and $\\bar L_0$ act as triangular matrices; see [arXiv:2007.04190](https://arxiv.org/abs/2007.04190).\n",
    "\n",
    "We parametrise the dimensions in terms of $P,p,\\Delta,\\delta$, related by\n",
    "\n",
    "$$\n",
    "\\Delta = \\frac{c-1}{24} + \\delta  \\quad , \\quad \\delta = -P^2 = p^2\n",
    "$$\n",
    "\n",
    "The Kac parametrisation for conformal weights is\n",
    "$$ p_{(r,s)}=\\frac{1}{2}(b r - b^{-1}s)$$\n",
    "\n",
    "where $r,s$ are arbitrary numbers. We say the field is degenerate if $r,s\\in \\mathbb Z$ and rs>0. In terms of $r,s$, the dimension $\\Delta$ is written\n",
    "\n",
    "\n",
    "$$\\Delta_{(r,s)} = \\frac14 B (1-r^2) + \\frac12 (1-rs) + \\frac14\\frac{1-s^2}{B}\n",
    "$$\n",
    "\n",
    "This convention is consistent with the one in in [this code](https://gitlab.com/s.g.ribault/Bootstrap_Virasoro.git)  but differs from the one in [this paper](https://arxiv.org/abs/2208.14298)."
   ]
  },
  {
   "cell_type": "code",
   "execution_count": 4,
   "metadata": {},
   "outputs": [],
   "source": [
    "p_from(parameter,value,charge::CentralCharge) = Dict(\n",
    "        \"Δ\" => sqrt(complex(value - (charge[\"c\"]-1)/24)),\n",
    "        \"δ\" => sqrt(complex(value)),\n",
    "        \"P\" => -im*value,\n",
    "        \"p\" => value\n",
    "    )[parameter]\n",
    "\n",
    "p_to(parameter,value,charge::CentralCharge) = Dict(\n",
    "        \"Δ\" => value^2 + (charge[\"c\"]-1)/24,\n",
    "        \"δ\" => value^2,\n",
    "        \"P\" => im*value,\n",
    "        \"p\" => value\n",
    "    )[parameter]\n",
    "\n",
    "struct Field{T}\n",
    "\n",
    "    values::Dict{String,T}\n",
    "    isKac::Bool\n",
    "    r::Rational\n",
    "    s::Rational\n",
    "\n",
    "end\n",
    "\n",
    "#Constructor\n",
    "function Field(parameter=\"\",value=0,charge::CentralCharge = CentralCharge(\"c\",1);Kac=false,r=0,s=0)\n",
    "    if Kac\n",
    "        p=.5*(charge[\"b\"]*r - 1/charge[\"b\"]*s)\n",
    "        Field{complex(T)}(true, Dict(key => p_to(key,p,charge) for key in (\"Δ\",\"δ\",\"P\",\"p\")),r,s)\n",
    "    else\n",
    "        p=p_from(parameter,value,charge)\n",
    "        Field{complex(T)}(true, Dict(key => p_to(key,p,charge) for key in (\"Δ\",\"δ\",\"P\",\"p\")),r,s)\n",
    "    end\n",
    "end\n",
    "\n",
    "Print a field\n",
    "function Base.show(io::IO,field::Field)\n",
    "    for (key,value) in field.values\n",
    "        println(io, \"$key = $value\")\n",
    "    end\n",
    "    if field.isKac\n",
    "        println(\"r = \",dim.r,\" ; s = \",dim.s)\n",
    "    end\n",
    "end"
   ]
  },
  {
   "cell_type": "code",
   "execution_count": 5,
   "metadata": {},
   "outputs": [
    {
     "name": "stdout",
     "output_type": "stream",
     "text": [
      "B = -0.6666666666666666 + 0.0im\n",
      "c = 0.0 + 0.0im\n",
      "b = 0.0 + 0.816496580927726im\n",
      "β = -0.816496580927726 + 0.0im\n",
      "\n"
     ]
    }
   ],
   "source": [
    "if run_tests\n",
    "    charge=CentralCharge(\"c\",0.)\n",
    "    println(charge)\n",
    "#    println(Dimension(Kac=true,r=-2.0,s=-1,charge=charge))\n",
    "end"
   ]
  },
  {
   "cell_type": "code",
   "execution_count": 21,
   "metadata": {},
   "outputs": [
    {
     "data": {
      "text/plain": [
       "test (generic function with 1 method)"
      ]
     },
     "metadata": {},
     "output_type": "display_data"
    }
   ],
   "source": [
    "function test()\n",
    "    p=p_from(\"Δ\",1,CentralCharge(\"c\",1))\n",
    "    Dict(key => p_to(key,p,charge) for key in (\"Δ\",\"δ\",\"P\",\"p\"))\n",
    "end"
   ]
  },
  {
   "cell_type": "code",
   "execution_count": 22,
   "metadata": {},
   "outputs": [
    {
     "data": {
      "text/plain": [
       "Dict{String, ComplexF64} with 4 entries:\n",
       "  \"Δ\" => 0.958333+0.0im\n",
       "  \"P\" => 0.0+1.0im\n",
       "  \"δ\" => 1.0-0.0im\n",
       "  \"p\" => 1.0-0.0im"
      ]
     },
     "metadata": {},
     "output_type": "display_data"
    }
   ],
   "source": [
    "test()"
   ]
  },
  {
   "cell_type": "code",
   "execution_count": 24,
   "metadata": {},
   "outputs": [
    {
     "data": {
      "text/plain": [
       "Field{ComplexF64}(false, Dict{String, ComplexF64}(\"Δ\" => 0.9583333333333334 + 0.0im, \"P\" => 0.0 + 1.0im, \"δ\" => 1.0 - 0.0im, \"p\" => 1.0 - 0.0im), 1, 1)"
      ]
     },
     "metadata": {},
     "output_type": "display_data"
    }
   ],
   "source": [
    "Field{ComplexF64}(false,test(),1,1)"
   ]
  },
  {
   "cell_type": "code",
   "execution_count": null,
   "metadata": {},
   "outputs": [],
   "source": []
  }
 ],
 "metadata": {
  "kernelspec": {
   "display_name": "Julia 1.9.3",
   "language": "julia",
   "name": "julia-1.9"
  },
  "language_info": {
   "file_extension": ".jl",
   "mimetype": "application/julia",
   "name": "julia",
   "version": "1.9.3"
  },
  "orig_nbformat": 4
 },
 "nbformat": 4,
 "nbformat_minor": 2
}
