{
 "cells": [
  {
   "cell_type": "code",
   "execution_count": 7,
   "metadata": {},
   "outputs": [
    {
     "data": {
      "text/plain": [
       "block (generic function with 1 method)"
      ]
     },
     "metadata
     "output_type"_data"
    }
   ],
   "source": [
    "using BootstrapVirasoro\n",
    "import BootstrapVirasoro: computeRmn,\n",
    "    Rmn_term,\n",
    "    Rmn_zero_order,\n",
    "    Rmn_term_vanishes,\n",
    "    Dmn\n",
    "\n",
    "c = CentralCharge(:β, big\"0.8\" + big\"0.1\" * im)\n",
    "Nmax = 26\n",
    "x = big\"0.3\" + big\"0.1\" * im\n",
    "\n",
    "V1 = Field(c, Kac=true, r=0, s=1)\n",
    "V2 = Field(c, Kac=true, r=0, s=1//2)\n",
    "V3 = Field(c, Kac=true, r=2, s=1//2)\n",
    "V_4(ϵ) = Field(c, Kac=true, r=2, s=3//2 + ϵ)\n",
    "\n",
    "V = Field(c, Kac=true, r=1, s=2)\n",
    "\n",
    "corr(ϵ) = Correlation(V1, V2, V3, V_4(ϵ), Nmax)\n",
    "ϵ = big\"1\" // big\"10\"^20\n",
    "\n",
    "block(chan, ϵ) = Block(corr(ϵ), chan, V, Nmax)"
   ]
  },
  {
   "cell_type": "code",
   "execution_count": 12,
   "metadata": {},
   "outputs": [
    {
     "name": "stdout",
     "output_type": "stream",
     "text": [
      "true\n"
     ]
    },
    {
     "name": "stderr",
     "output_type": "stream",
     "text": [
      "┌ Warning: You defined a field with non-integer r*s, is that intentional?\n",
      "└ @ BootstrapVirasoro /Users/Paul/Documents/Recherche/projet_these/code/BootstrapVirasoro/src/BootstrapVirasoro/CFTData/fields.jl:113\n"
     ]
    },
    {
     "name": "stdout",
     "output_type": "stream",
     "text": [
      "true\n"
     ]
    }
   ],
   "source": [
    "import BootstrapVirasoro: islogarithmic, isaccidentallynonlogarithmic\n",
    "\n",
    "println(islogarithmic(block(:s, ϵ)))\n",
    "println(isaccidentallynonlogarithmic(block(:s, 0)))"
   ]
  },
  {
   "cell_type": "code",
   "execution_count": 9,
   "metadata": {},
   "outputs": [
    {
     "name": "stderr",
     "output_type": "stream",
     "text": [
      "┌ Warning: You defined a field with non-integer r*s, is that intentional?\n",
      "└ @ BootstrapVirasoro /Users/Paul/Documents/Recherche/projet_these/code/BootstrapVirasoro/src/BootstrapVirasoro/CFTData/fields.jl:113\n"
     ]
    },
    {
     "data": {
      "text/plain": [
       "0.1275748004409119955211656683116827137284508900474295324700095311591277054571207 - 0.08206649841297729881546428844166542573865989574648845967170825652147616315726254im"
      ]
     },
     "metadata": {},
     "output_type": "display_data"
    }
   ],
   "source": [
    "evaluate(block(:s, ϵ), x)"
   ]
  },
  {
   "cell_type": "code",
   "execution_count": 13,
   "metadata": {},
   "outputs": [
    {
     "data": {
      "text/plain": [
       "0.1275748004409119955207795297313476597176460889695512510480915033862649498576074 - 0.08206649841297729881462097072459592604678296517095648280213424829931763289847303im"
      ]
     },
     "metadata": {},
     "output_type": "display_data"
    }
   ],
   "source": [
    "evaluate(block(:s, 0), x)"
   ]
  },
  {
   "cell_type": "code",
   "execution_count": null,
   "metadata": {},
   "outputs": [],
   "source": []
  }
 ],
 "metadata": {
  "kernelspec": {
   "display_name": "Julia 1.11.1",
   "language": "julia",
   "name": "julia-1.11"
  },
  "language_info": {
   "file_extension": ".jl",
   "mimetype": "application/julia",
   "name": "julia",
   "version": "1.11.1"
  }
 },
 "nbformat": 4,
 "nbformat_minor": 2
}
