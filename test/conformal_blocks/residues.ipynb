{
 "cells": [
  {
   "cell_type"
   "execution_
   "metadata":
   "outputs": [],
   "source": [
    "using BootstrapVirasoro"
   ]
  },
  {
   "cell_type
   "execution_count": 14,
   "metadata": {},
   "outputs": [
    {
     "name": "stdout",
     "output_type": "stream",
     "text": [
      "R1 = -0.08214831775465659637263547380568494840942991258529141592672545156148287775579785 + 0.01001070106315566456618434875103093688550174450665985588531255633490049578180958im, R2 = 0.5501180817538459174653488678846854430487576976115851922384140787052868451694032 + 4.343342950590266141935090309779553181062081752185308867115047302821554138972927im\n"
     ]
    }
   ],
   "source": [
    "c = CentralCharge(:β, big\"0.8\"+big\"0.1\"*im)\n",
    "Nmax = 15\n",
    "V1 = Field(c, diagonal=true, :Δ, 0.43)\n",
    "V2 = Field(c, Kac=true, r=3, s=2 // 3)\n",
    "V3 = Field(c, Kac=true, r=2, s=1 // 2)\n",
    "V4 = Field(c, Kac=true, r=2, s=3 // 2)\n",
    "Vs = (V1, V2, V3, V4)\n",
    "ds = Tuple(\n",
    "    Tuple(v.dims[lr] for v in Vs)\n",
    "    for lr in (:left, :right)\n",
    ")\n",
    "\n",
    "V = Field(c, Kac=true, r=3, s=3)\n",
    "\n",
    "co = Correlation(V1, V2, V3, V4, Nmax)\n",
    "\n",
    "R1 = co._Rmn_reg[:left][:s][(1, 2)]\n",
    "R2 = co._Rmn_reg[:right][:s][(1, 2)]\n",
    "\n",
    "println(\"R1 = $R1, R2 = $R2\")"
   ]
  },
  {
   "cell_type": "code",
   "execution_count": 17,
   "metadata": {},
   "outputs": [
    {
     "data": {
      "text/plain": [
       "-1.62701823029545896079940455865710228532343034608142427695310431356143684666976e-05 + 1.724949488914714504951373801596040129393539862435315035284763271287722029323174e-05im"
      ]
     },
     "metadata": {},
     "output_type": "display_data"
    }
   ],
   "source": [
    "import BootstrapVirasoro: Prs, Dmn\n",
    "Ps = Tuple(d.P for d in ds[:left])\n",
    "Rleft = prod(\n",
    "    (Ps[1] + pm1*Ps[2] + pm2*Prs(0, s, c.β))\n",
    "    for pm1 in (-1, 1) for pm2 in (-1, 1) for s in (-1, 1)\n",
    ") * \n",
    "prod((Ps[3] + Ps[4]) + pm2*Prs(0, s, c.β) for s in (-1, 1) for pm2 in (-1, 1)) * \n",
    "8 * Ps[3] * Ps[4] * Prs(0, 1, c.β) / Dmn(1, 2, c.B)\n",
    "\n",
    "Ps = Tuple(d.P for d in ds[:right])\n",
    "Rright = prod(\n",
    "    (Ps[1] + pm1*Ps[2] + pm2*Prs(0, s, c.β))\n",
    "    for pm1 in (-1, 1) for pm2 in (-1, 1) for s in (-1, 1)\n",
    ") * \n",
    "prod((Ps[3] + Ps[4]) + pm2*Prs(0, s, c.β) for s in (-1, 1) for pm2 in (-1, 1)) * \n",
    "8 * Ps[3] * Ps[4] * Prs(0, -1, c.β) / Dmn(1, 2, c.B)\n",
    "\n",
    "Rleft/Rright"
   ]
  },
  {
   "cell_type": "code",
   "execution_count": 21,
   "metadata": {},
   "outputs": [
    {
     "name": "stderr",
     "output_type": "stream",
     "text": [
      "┌ Warning: You defined a field with non-integer r*s, is that intentional?\n",
      "└ @ BootstrapVirasoro /Users/Paul/Documents/Recherche/projet_these/code/BootstrapVirasoro/src/BootstrapVirasoro/CFTData/fields.jl:76\n",
      "┌ Warning: You defined a field with non-integer r*s, is that intentional?\n",
      "└ @ BootstrapVirasoro /Users/Paul/Documents/Recherche/projet_these/code/BootstrapVirasoro/src/BootstrapVirasoro/CFTData/fields.jl:76\n"
     ]
    },
    {
     "data": {
      "text/plain": [
       "2.671308464213623088672762166779392211074073510556301211418663229613218658491086e-10 + 3.937191104808945396981657662107337902628789766045981176561739740665873556787591e-10im"
      ]
     },
     "metadata": {},
     "output_type": "display_data"
    }
   ],
   "source": [
    "function shift_indices(V::FourFields, ϵ)\n",
    "    s_shift = zeros(Rational, 4)\n",
    "    for i in 1:4\n",
    "        if i % 2 == 0\n",
    "            s_shift[i] = ϵ\n",
    "        end\n",
    "    end\n",
    "\n",
    "    return [\n",
    "        Field(co.c, Kac=true, r=V[i].r, s=V[i].s + s_shift[i])\n",
    "        for i in 1:4\n",
    "    ]\n",
    "end\n",
    "\n",
    "begin\n",
    "    res = true\n",
    "    for pair in keys(co._Rmn[:left][:s])\n",
    "        if !(haskey(co._Rmn[:left][:s], pair))\n",
    "            res = false\n",
    "        end\n",
    "    end\n",
    "    res\n",
    "end\n",
    "\n",
    "ϵ = big\"1\" // big\"10\"^10\n",
    "co_shift = Correlation(shift_indices((V1, V2, V3, V4), ϵ)..., Nmax)\n",
    "ds_shift = Tuple(\n",
    "    Tuple(v.dims[lr] for v in co_shift.fields)\n",
    "    for lr in (:left, :right)\n",
    ")\n",
    "R3 = co_shift._Rmn[:left][:s][(1, 2)]\n",
    "R4 = co_shift._Rmn[:right][:s][(1, 2)]"
   ]
  },
  {
   "cell_type": "code",
   "execution_count": 23,
   "metadata": {},
   "outputs": [
    {
     "name": "stdout",
     "output_type": "stream",
     "text": [
      "0.3903504779244424214838416021847974510696404187528447883477469276285844333181627 - 0.493764223941738734638142922166590805644060081929904415111515703231679563040517im\n",
      "-2.022338153978222051045187493433803788382759707293162004131508000420235273653606e-11 + 3.338818668795070200599810930989105423479570043065718987430412100416817762167869e-11im\n"
     ]
    }
   ],
   "source": [
    "import BootstrapVirasoro.Rmn_term\n",
    "println(Rmn_term(0, 1, 3, 4, ds[:left]))\n",
    "println(Rmn_term(0, 1, 3, 4, ds_shift[:left]))"
   ]
  },
  {
   "cell_type": "code",
   "execution_count": null,
   "metadata": {},
   "outputs": [],
   "source": []
  }
 ],
 "metadata": {
  "kernelspec": {
   "display_name": "Julia 1.11.1",
   "language": "julia",
   "name": "julia-1.11"
  },
  "language_info": {
   "file_extension": ".jl",
   "mimetype": "application/julia",
   "name": "julia",
   "version": "1.11.1"
  }
 },
 "nbformat": 4,
 "nbformat_minor": 2
}
