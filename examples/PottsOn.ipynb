{
 "cells": [
  {
   "cell_type": "markdown",
   "id": "03777087",
   "metadata": {},
   "source": [
    "# Four point functions in the Potts and $O(n)$ models\n",
    "\n",
    "This notebook reproduces some known results about Potts and $O(n)$ four-point functions, using the new Julia code."
   ]
  },
  {
   "cell_type": "code",
   "execution_count": 1,
   "id": "5d7699d5",
   "metadata": {},
   "outputs": [
    {
     "name": "stderr",
     "output_type": "stream",
     "text": [
      "\u001b[32m\u001b[1m  Activating\u001b[22m\u001b[39m project at `~/Documents/Recherche/projet_these/code/BootstrapVirasoro`\n",
      "\u001b[36m\u001b[1m[ \u001b[22m\u001b[39m\u001b[36m\u001b[1mInfo: \u001b[22m\u001b[39mPrecompiling BootstrapVirasoro [ca6c609c-7c6b-4ea6-be06-ee6e3ced7d6c] (cache misses: include_dependency fsize change (2), dep missing source (2), mismatched flags (14))\n",
      "WARNING: Method definition show(IO, BootstrapVirasoro.StructureConstants{T} where T) in module BootstrapVirasoro at /Users/paulroux/Documents/Recherche/projet_these/code/BootstrapVirasoro/src/linear_solver.jl:9 overwritten at /Users/paulroux/Documents/Recherche/projet_these/code/BootstrapVirasoro/src/linear_solver.jl:25.\n",
      "ERROR: Method overwriting is not permitted during Module precompilation. Use `__precompile__(false)` to opt-out of precompilation.\n",
      "\u001b[36m\u001b[1m┌ \u001b[22m\u001b[39m\u001b[36m\u001b[1mInfo: \u001b[22m\u001b[39mSkipping precompilation due to precompilable error. Importing BootstrapVirasoro [ca6c609c-7c6b-4ea6-be06-ee6e3ced7d6c].\n",
      "\u001b[36m\u001b[1m└ \u001b[22m\u001b[39m  exception = Error when precompiling module, potentially caused by a __precompile__(false) declaration in the module.\n"
     ]
    }
   ],
   "source": [
    "setprecision(BigFloat, 64)\n",
    "Pkg.activate(\"..\")\n",
    "using BootstrapVirasoro,\n",
    "    Plots"
   ]
  },
  {
   "cell_type": "markdown",
   "id": "ad8906b8",
   "metadata": {},
   "source": [
    "## Spectra\n",
    "\n",
    "We create functions to generate the spectra of the $O(n)$ and Potts CFTs, with a cutoff:\n",
    "\n",
    "\\begin{align}\n",
    "\\mathcal{S}^{O(n)} &= \\left\\{V^d_{\\langle 1,s\\rangle}\\right\\}_{s\\in 2\\mathbb{N}+1} \\bigcup \\left\\{V_{(r,s)}\\right\\}_{\\substack{r\\in \\frac12\\mathbb{N}^*\\\\ s\\in\\frac{1}{r}\\mathbb{Z}}}  \\ ,\n",
    " \\\\\n",
    " \\mathcal{S}^{PSU(n)} &= \\left\\{V^d_{\\langle 1,s\\rangle}\\right\\}_{s\\in\\mathbb{N}^*} \\bigcup \\left\\{V_{(r,s)}\\right\\}_{\\substack{r\\in \\mathbb{N}^*\\\\ s\\in\\frac{1}{r}\\mathbb{Z}}}  \\ ,\n",
    " \\\\\n",
    " \\mathcal{S}^\\text{Potts} &= \\left\\{V^d_{\\langle 1,s\\rangle}\\right\\}_{s\\in\\mathbb{N}^*} \\bigcup \\left\\{V_{(r,s)}\\right\\}_{\\substack{r\\in \\mathbb{N}+2\\\\ s\\in\\frac{1}{r}\\mathbb{Z}}} \\bigcup  \\left\\{ V_{P_{(0,s)}}\\right\\}_{s\\in \\mathbb{N}+\\frac12}\\ .\n",
    "\\end{align}\n"
   ]
  },
  {
   "cell_type": "code",
   "execution_count": 2,
   "id": "af82dfda",
   "metadata": {},
   "outputs": [
    {
     "name": "stdout",
     "output_type": "stream",
     "text": [
      "SOn = Degenerate:\n",
      "<1, 1>\n",
      "<1, 3>\n",
      "<1, 5>\n",
      "<1, 7>\n",
      "Non-diagonal:\n",
      "(1, 0), (1, 1)\n",
      "(2, -1//2), (2, 0), (2, 1//2), (2, 1)\n",
      "(3, -2//3), (3, -1//3), (3, 0), (3, 1//3), (3, 2//3), (3, 1)\n"
     ]
    }
   ],
   "source": [
    "c = CentralCharge(β=1/(big\"0.8\" + big\"0.1\"*im))\n",
    "Δmax = 10.\n",
    "\n",
    "indices = ((1//2, 0), (1//2, 0), (1, 0), (1, 0))\n",
    "\n",
    "fields = [Field(c, r=r, s=s) for (r, s) in indices]\n",
    "co = Correlation(fields..., Δmax=Δmax)\n",
    "\n",
    "LoopFields = Dict(\n",
    "    :On => vcat(\n",
    "        [Field(c, r=r, s=s) for r in 1//2:1//2:50 for s in -1+1//r:1//r:1 if r*s%1 == 0],\n",
    "        [Field(c, r=1, s=s, diagonal=true) for s in 1:2:50]\n",
    "    ),\n",
    "    :PSUn => vcat(\n",
    "        [Field(c, r=r, s=s) for r in 1:50 for s in -1+1//r:1//r:1],\n",
    "        [Field(c, r=1, s=s, diagonal=true) for s in 1:50]\n",
    "    ),\n",
    "    :Potts => vcat(\n",
    "        [Field(c, r=r, s=s) for r in 2:50 for s in -1+1//r:1//r:1],\n",
    "        [Field(c, r=0, s=s, diagonal=true) for s in 1//2:1:3//2],\n",
    "        [Field(c, r=1, s=s, diagonal=true) for s in 1:50]\n",
    "    )\n",
    ")\n",
    "\n",
    "LoopSpectra = Dict(\n",
    "    model => Spectrum(LoopFields[model], Δmax, interchiral=true)\n",
    "    for model in (:On, :PSUn, :Potts)\n",
    ")\n",
    "\n",
    "SOn = LoopSpectra[:On];\n",
    "@show SOn;"
   ]
  },
  {
   "cell_type": "markdown",
   "id": "fc39c848",
   "metadata": {},
   "source": [
    "## Bootstrap equations"
   ]
  },
  {
   "cell_type": "markdown",
   "id": "d45087a3",
   "metadata": {},
   "source": [
    "We numerically solve\n",
    "\n",
    "\\begin{align}\n",
    "\\sum_{V \\in \\mathcal{S}^{(s)}} D^{(s)}_V \\mathcal I^{(s)}_V (x) = \\sum_{V \\in \\mathcal{S}^{(t)}} D^{(t)}_V \\mathcal I^{(t)}_V (x) = \\sum_{V \\in \\mathcal{S}^{(u)}} D^{(u)}_V \\mathcal I^{(u)}_V (x),\n",
    "\\end{align}\n",
    "\n",
    "for some channel spectra $\\mathcal{S}^{(s)}, \\mathcal{S}^{(t)}, \\mathcal{S}^{(u)}$, where $\\mathcal I$ are interchiral conformal blocks, and the $D$'s are four-point structure constants.\n",
    "\n",
    "We solve this system as\n",
    "\\begin{equation}\n",
    "\\underbrace{\n",
    "\\begin{bmatrix}\n",
    "[\\mathcal I^{(s)}_{V_j}(x_i)]_{ij} & [-\\mathcal I^{(t)}_{V_j}(x_i)]_{ij} & [0] \\\\\n",
    "[\\mathcal I^{(s)}_{V_j}(x_i)]_{ij} & [0] & [-\\mathcal I^{(u)}_{V_j}(x_i)]_{ij}\n",
    "\\end{bmatrix}}_A\n",
    "\\begin{bmatrix}\n",
    "[D^{(s)}_{V_j}]_j \\\\\n",
    "[D^{(t)}_{V_j}]_j \\\\\n",
    "[D^{(u)}_{V_j}]_j\n",
    "\\end{bmatrix} = \n",
    "\\begin{bmatrix}\n",
    "\\sum_{V_j \\in \\text{ known}} D^{(t)}_{V_j} \\mathcal{I}^{(t)}_{V_j}(x_i) - \\sum_{V_j \\in \\text{ known}} D^{(s)}_{V_j} \\mathcal{I}^{(s)}_{V_j}(x_i)\\\\\n",
    "\\sum_{V_j \\in \\text{ known}} D^{(u)}_{V_j} \\mathcal{I}^{(u)}_{V_j}(x_i) - \\sum_{V_j \\in \\text{ known}} D^{(s)}_{V_j} \\mathcal{I}^{(s)}_{V_j}(x_i)\n",
    "\\end{bmatrix}\n",
    "\\end{equation}\n",
    "where the $x_i$ take more values than there are unknowns, i.e. $A$ is a tall rectangular matrix. \n",
    "\n",
    "To check numerical convergence, we solve two subsystems and compare the solutions. If the solutions are close, we know the computation has converged."
   ]
  },
  {
   "cell_type": "code",
   "execution_count": 3,
   "id": "93cb68d8",
   "metadata": {},
   "outputs": [
    {
     "data": {
      "text/plain": []
     },
     "execution_count": 3,
     "metadata": {},
     "output_type": "execute_result"
    }
   ],
   "source": [
    "Schan_On = BootstrapVirasoro.ChannelSpectra(\n",
    "    co, LoopSpectra[:On],\n",
    "    signature = Dict(:s => 0, :t => 0, :u => 0)\n",
    ")\n",
    "csts = StructureConstants(Schan_On)"
   ]
  },
  {
   "cell_type": "code",
   "execution_count": 5,
   "id": "dcb3fc31",
   "metadata": {},
   "outputs": [],
   "source": [
    "import BootstrapVirasoro: evaluate_blocks, random_points\n",
    "S, consts = Schan_On, csts\n",
    "system = BootstrapSystem(S, consts);\n",
    "BootstrapVirasoro.solve!(system);"
   ]
  },
  {
   "cell_type": "code",
   "execution_count": null,
   "id": "3384d188",
   "metadata": {},
   "outputs": [
    {
     "name": "stdout",
     "output_type": "stream",
     "text": [
      "system.consts = Channel s\n",
      "==========\n",
      "Channel u\n",
      "==========\n",
      "Channel t\n",
      "==========\n",
      "\n"
     ]
    },
    {
     "data": {
      "text/plain": [
       "\u001b[31m\u001b[1mChannel s\u001b[22m\u001b[39m\n",
       "\u001b[31m\u001b[1m==========\u001b[22m\u001b[39m\n",
       "\u001b[31m\u001b[1mChannel u\u001b[22m\u001b[39m\n",
       "\u001b[31m\u001b[1m==========\u001b[22m\u001b[39m\n",
       "\u001b[31m\u001b[1mChannel t\u001b[22m\u001b[39m\n",
       "\u001b[31m\u001b[1m==========\u001b[22m\u001b[39m\n"
      ]
     },
     "execution_count": 10,
     "metadata": {},
     "output_type": "execute_result"
    }
   ],
   "source": [
    "@show system.consts;"
   ]
  },
  {
   "cell_type": "code",
   "execution_count": null,
   "id": "675eeabc",
   "metadata": {},
   "outputs": [],
   "source": []
  }
 ],
 "metadata": {
  "kernelspec": {
   "display_name": "Julia 1.11.4",
   "language": "julia",
   "name": "julia-1.11"
  },
  "language_info": {
   "file_extension": ".jl",
   "mimetype": "application/julia",
   "name": "julia",
   "version": "1.11.4"
  }
 },
 "nbformat": 4,
 "nbformat_minor": 5
}
